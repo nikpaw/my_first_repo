{
  "nbformat": 4,
  "nbformat_minor": 0,
  "metadata": {
    "colab": {
      "provenance": [],
      "toc_visible": true,
      "include_colab_link": true
    },
    "kernelspec": {
      "name": "python3",
      "display_name": "Python 3"
    },
    "language_info": {
      "name": "python"
    }
  },
  "cells": [
    {
      "cell_type": "markdown",
      "metadata": {
        "id": "view-in-github",
        "colab_type": "text"
      },
      "source": [
        "<a href=\"https://colab.research.google.com/github/nikpaw/my_first_repo/blob/main/Dataframes_combined.ipynb\" target=\"_parent\"><img src=\"https://colab.research.google.com/assets/colab-badge.svg\" alt=\"Open In Colab\"/></a>"
      ]
    },
    {
      "cell_type": "markdown",
      "source": [],
      "metadata": {
        "id": "QJ8mTdW_3MvL"
      }
    },
    {
      "cell_type": "code",
      "source": [
        "# importing basic modules\n",
        "import pandas as pd\n",
        "import matplotlib.pylab as plt\n",
        "import numpy as np"
      ],
      "metadata": {
        "id": "bjSVHgQK3RBS"
      },
      "execution_count": 1,
      "outputs": []
    },
    {
      "cell_type": "code",
      "source": [
        "# import file \"foreign_data_by_state_sorted.csv\"\n",
        "from google.colab import files\n",
        "uploaded = files.upload()"
      ],
      "metadata": {
        "colab": {
          "base_uri": "https://localhost:8080/",
          "height": 74
        },
        "id": "Jd8g7DH_6ERN",
        "outputId": "9d7fbba1-f13b-4b51-a822-b42c508e9474"
      },
      "execution_count": 2,
      "outputs": [
        {
          "output_type": "display_data",
          "data": {
            "text/plain": [
              "<IPython.core.display.HTML object>"
            ],
            "text/html": [
              "\n",
              "     <input type=\"file\" id=\"files-66ba6aa0-5769-45a5-a40f-d7d45b4d3d8a\" name=\"files[]\" multiple disabled\n",
              "        style=\"border:none\" />\n",
              "     <output id=\"result-66ba6aa0-5769-45a5-a40f-d7d45b4d3d8a\">\n",
              "      Upload widget is only available when the cell has been executed in the\n",
              "      current browser session. Please rerun this cell to enable.\n",
              "      </output>\n",
              "      <script>// Copyright 2017 Google LLC\n",
              "//\n",
              "// Licensed under the Apache License, Version 2.0 (the \"License\");\n",
              "// you may not use this file except in compliance with the License.\n",
              "// You may obtain a copy of the License at\n",
              "//\n",
              "//      http://www.apache.org/licenses/LICENSE-2.0\n",
              "//\n",
              "// Unless required by applicable law or agreed to in writing, software\n",
              "// distributed under the License is distributed on an \"AS IS\" BASIS,\n",
              "// WITHOUT WARRANTIES OR CONDITIONS OF ANY KIND, either express or implied.\n",
              "// See the License for the specific language governing permissions and\n",
              "// limitations under the License.\n",
              "\n",
              "/**\n",
              " * @fileoverview Helpers for google.colab Python module.\n",
              " */\n",
              "(function(scope) {\n",
              "function span(text, styleAttributes = {}) {\n",
              "  const element = document.createElement('span');\n",
              "  element.textContent = text;\n",
              "  for (const key of Object.keys(styleAttributes)) {\n",
              "    element.style[key] = styleAttributes[key];\n",
              "  }\n",
              "  return element;\n",
              "}\n",
              "\n",
              "// Max number of bytes which will be uploaded at a time.\n",
              "const MAX_PAYLOAD_SIZE = 100 * 1024;\n",
              "\n",
              "function _uploadFiles(inputId, outputId) {\n",
              "  const steps = uploadFilesStep(inputId, outputId);\n",
              "  const outputElement = document.getElementById(outputId);\n",
              "  // Cache steps on the outputElement to make it available for the next call\n",
              "  // to uploadFilesContinue from Python.\n",
              "  outputElement.steps = steps;\n",
              "\n",
              "  return _uploadFilesContinue(outputId);\n",
              "}\n",
              "\n",
              "// This is roughly an async generator (not supported in the browser yet),\n",
              "// where there are multiple asynchronous steps and the Python side is going\n",
              "// to poll for completion of each step.\n",
              "// This uses a Promise to block the python side on completion of each step,\n",
              "// then passes the result of the previous step as the input to the next step.\n",
              "function _uploadFilesContinue(outputId) {\n",
              "  const outputElement = document.getElementById(outputId);\n",
              "  const steps = outputElement.steps;\n",
              "\n",
              "  const next = steps.next(outputElement.lastPromiseValue);\n",
              "  return Promise.resolve(next.value.promise).then((value) => {\n",
              "    // Cache the last promise value to make it available to the next\n",
              "    // step of the generator.\n",
              "    outputElement.lastPromiseValue = value;\n",
              "    return next.value.response;\n",
              "  });\n",
              "}\n",
              "\n",
              "/**\n",
              " * Generator function which is called between each async step of the upload\n",
              " * process.\n",
              " * @param {string} inputId Element ID of the input file picker element.\n",
              " * @param {string} outputId Element ID of the output display.\n",
              " * @return {!Iterable<!Object>} Iterable of next steps.\n",
              " */\n",
              "function* uploadFilesStep(inputId, outputId) {\n",
              "  const inputElement = document.getElementById(inputId);\n",
              "  inputElement.disabled = false;\n",
              "\n",
              "  const outputElement = document.getElementById(outputId);\n",
              "  outputElement.innerHTML = '';\n",
              "\n",
              "  const pickedPromise = new Promise((resolve) => {\n",
              "    inputElement.addEventListener('change', (e) => {\n",
              "      resolve(e.target.files);\n",
              "    });\n",
              "  });\n",
              "\n",
              "  const cancel = document.createElement('button');\n",
              "  inputElement.parentElement.appendChild(cancel);\n",
              "  cancel.textContent = 'Cancel upload';\n",
              "  const cancelPromise = new Promise((resolve) => {\n",
              "    cancel.onclick = () => {\n",
              "      resolve(null);\n",
              "    };\n",
              "  });\n",
              "\n",
              "  // Wait for the user to pick the files.\n",
              "  const files = yield {\n",
              "    promise: Promise.race([pickedPromise, cancelPromise]),\n",
              "    response: {\n",
              "      action: 'starting',\n",
              "    }\n",
              "  };\n",
              "\n",
              "  cancel.remove();\n",
              "\n",
              "  // Disable the input element since further picks are not allowed.\n",
              "  inputElement.disabled = true;\n",
              "\n",
              "  if (!files) {\n",
              "    return {\n",
              "      response: {\n",
              "        action: 'complete',\n",
              "      }\n",
              "    };\n",
              "  }\n",
              "\n",
              "  for (const file of files) {\n",
              "    const li = document.createElement('li');\n",
              "    li.append(span(file.name, {fontWeight: 'bold'}));\n",
              "    li.append(span(\n",
              "        `(${file.type || 'n/a'}) - ${file.size} bytes, ` +\n",
              "        `last modified: ${\n",
              "            file.lastModifiedDate ? file.lastModifiedDate.toLocaleDateString() :\n",
              "                                    'n/a'} - `));\n",
              "    const percent = span('0% done');\n",
              "    li.appendChild(percent);\n",
              "\n",
              "    outputElement.appendChild(li);\n",
              "\n",
              "    const fileDataPromise = new Promise((resolve) => {\n",
              "      const reader = new FileReader();\n",
              "      reader.onload = (e) => {\n",
              "        resolve(e.target.result);\n",
              "      };\n",
              "      reader.readAsArrayBuffer(file);\n",
              "    });\n",
              "    // Wait for the data to be ready.\n",
              "    let fileData = yield {\n",
              "      promise: fileDataPromise,\n",
              "      response: {\n",
              "        action: 'continue',\n",
              "      }\n",
              "    };\n",
              "\n",
              "    // Use a chunked sending to avoid message size limits. See b/62115660.\n",
              "    let position = 0;\n",
              "    do {\n",
              "      const length = Math.min(fileData.byteLength - position, MAX_PAYLOAD_SIZE);\n",
              "      const chunk = new Uint8Array(fileData, position, length);\n",
              "      position += length;\n",
              "\n",
              "      const base64 = btoa(String.fromCharCode.apply(null, chunk));\n",
              "      yield {\n",
              "        response: {\n",
              "          action: 'append',\n",
              "          file: file.name,\n",
              "          data: base64,\n",
              "        },\n",
              "      };\n",
              "\n",
              "      let percentDone = fileData.byteLength === 0 ?\n",
              "          100 :\n",
              "          Math.round((position / fileData.byteLength) * 100);\n",
              "      percent.textContent = `${percentDone}% done`;\n",
              "\n",
              "    } while (position < fileData.byteLength);\n",
              "  }\n",
              "\n",
              "  // All done.\n",
              "  yield {\n",
              "    response: {\n",
              "      action: 'complete',\n",
              "    }\n",
              "  };\n",
              "}\n",
              "\n",
              "scope.google = scope.google || {};\n",
              "scope.google.colab = scope.google.colab || {};\n",
              "scope.google.colab._files = {\n",
              "  _uploadFiles,\n",
              "  _uploadFilesContinue,\n",
              "};\n",
              "})(self);\n",
              "</script> "
            ]
          },
          "metadata": {}
        },
        {
          "output_type": "stream",
          "name": "stdout",
          "text": [
            "Saving foreign_data_by_state_sorted.csv to foreign_data_by_state_sorted.csv\n"
          ]
        }
      ]
    },
    {
      "cell_type": "code",
      "source": [
        "import io\n",
        "foreign_data_complete = pd.read_csv(io.BytesIO(uploaded['foreign_data_by_state_sorted.csv']), encoding=\"windows_1258\")\n",
        "\n",
        "foreign_data_complete = foreign_data_complete.drop([0])\n",
        "\n",
        "foreign_data_complete = foreign_data_complete.rename(\n",
        "    columns={\n",
        "        \"Foreign_Population\": \"Foreign_Population.0\",\n",
        "        \"Country_Score\": \"Country_Score.0\",\n",
        "        \"Country\": \"Country.0\"\n",
        "        },\n",
        "    index={\n",
        "        1: \"Baden-Württemberg\",\n",
        "        2: \"Bavaria\",\n",
        "        3: \"Berlin\",\n",
        "        4: \"Brandenburg\",\n",
        "        5: \"Bremen\",\n",
        "        6: \"Hamburg\",\n",
        "        7: \"Hesse\",\n",
        "        8: \"Mecklenburg Western Pomerania\",\n",
        "        9: \"Lower Saxony\",\n",
        "        10: \"Northrhine-Westphalia\",\n",
        "        11: \"Rhineland Palatinate\",\n",
        "        12: \"Saarland\",\n",
        "        13: \"Sachsen\",\n",
        "        14: \"Sachsen-Anhalt\",\n",
        "        15: \"Schleswig-Holstein\",\n",
        "        16: \"Thuringia\"\n",
        "        }\n",
        "        )"
      ],
      "metadata": {
        "id": "wYkFg8YM6-rL"
      },
      "execution_count": 3,
      "outputs": []
    },
    {
      "cell_type": "code",
      "source": [
        "# import file \"migrant_background_data_by_state_sorted\"\n",
        "from google.colab import files\n",
        "uploaded = files.upload()"
      ],
      "metadata": {
        "colab": {
          "base_uri": "https://localhost:8080/",
          "height": 74
        },
        "id": "7Ru_rvua6E2G",
        "outputId": "3b7b573a-750a-4fa4-e6cc-5dd0f9c68c57"
      },
      "execution_count": 10,
      "outputs": [
        {
          "output_type": "display_data",
          "data": {
            "text/plain": [
              "<IPython.core.display.HTML object>"
            ],
            "text/html": [
              "\n",
              "     <input type=\"file\" id=\"files-0e7f37fb-0be7-45b3-9cc0-88973e4a3f80\" name=\"files[]\" multiple disabled\n",
              "        style=\"border:none\" />\n",
              "     <output id=\"result-0e7f37fb-0be7-45b3-9cc0-88973e4a3f80\">\n",
              "      Upload widget is only available when the cell has been executed in the\n",
              "      current browser session. Please rerun this cell to enable.\n",
              "      </output>\n",
              "      <script>// Copyright 2017 Google LLC\n",
              "//\n",
              "// Licensed under the Apache License, Version 2.0 (the \"License\");\n",
              "// you may not use this file except in compliance with the License.\n",
              "// You may obtain a copy of the License at\n",
              "//\n",
              "//      http://www.apache.org/licenses/LICENSE-2.0\n",
              "//\n",
              "// Unless required by applicable law or agreed to in writing, software\n",
              "// distributed under the License is distributed on an \"AS IS\" BASIS,\n",
              "// WITHOUT WARRANTIES OR CONDITIONS OF ANY KIND, either express or implied.\n",
              "// See the License for the specific language governing permissions and\n",
              "// limitations under the License.\n",
              "\n",
              "/**\n",
              " * @fileoverview Helpers for google.colab Python module.\n",
              " */\n",
              "(function(scope) {\n",
              "function span(text, styleAttributes = {}) {\n",
              "  const element = document.createElement('span');\n",
              "  element.textContent = text;\n",
              "  for (const key of Object.keys(styleAttributes)) {\n",
              "    element.style[key] = styleAttributes[key];\n",
              "  }\n",
              "  return element;\n",
              "}\n",
              "\n",
              "// Max number of bytes which will be uploaded at a time.\n",
              "const MAX_PAYLOAD_SIZE = 100 * 1024;\n",
              "\n",
              "function _uploadFiles(inputId, outputId) {\n",
              "  const steps = uploadFilesStep(inputId, outputId);\n",
              "  const outputElement = document.getElementById(outputId);\n",
              "  // Cache steps on the outputElement to make it available for the next call\n",
              "  // to uploadFilesContinue from Python.\n",
              "  outputElement.steps = steps;\n",
              "\n",
              "  return _uploadFilesContinue(outputId);\n",
              "}\n",
              "\n",
              "// This is roughly an async generator (not supported in the browser yet),\n",
              "// where there are multiple asynchronous steps and the Python side is going\n",
              "// to poll for completion of each step.\n",
              "// This uses a Promise to block the python side on completion of each step,\n",
              "// then passes the result of the previous step as the input to the next step.\n",
              "function _uploadFilesContinue(outputId) {\n",
              "  const outputElement = document.getElementById(outputId);\n",
              "  const steps = outputElement.steps;\n",
              "\n",
              "  const next = steps.next(outputElement.lastPromiseValue);\n",
              "  return Promise.resolve(next.value.promise).then((value) => {\n",
              "    // Cache the last promise value to make it available to the next\n",
              "    // step of the generator.\n",
              "    outputElement.lastPromiseValue = value;\n",
              "    return next.value.response;\n",
              "  });\n",
              "}\n",
              "\n",
              "/**\n",
              " * Generator function which is called between each async step of the upload\n",
              " * process.\n",
              " * @param {string} inputId Element ID of the input file picker element.\n",
              " * @param {string} outputId Element ID of the output display.\n",
              " * @return {!Iterable<!Object>} Iterable of next steps.\n",
              " */\n",
              "function* uploadFilesStep(inputId, outputId) {\n",
              "  const inputElement = document.getElementById(inputId);\n",
              "  inputElement.disabled = false;\n",
              "\n",
              "  const outputElement = document.getElementById(outputId);\n",
              "  outputElement.innerHTML = '';\n",
              "\n",
              "  const pickedPromise = new Promise((resolve) => {\n",
              "    inputElement.addEventListener('change', (e) => {\n",
              "      resolve(e.target.files);\n",
              "    });\n",
              "  });\n",
              "\n",
              "  const cancel = document.createElement('button');\n",
              "  inputElement.parentElement.appendChild(cancel);\n",
              "  cancel.textContent = 'Cancel upload';\n",
              "  const cancelPromise = new Promise((resolve) => {\n",
              "    cancel.onclick = () => {\n",
              "      resolve(null);\n",
              "    };\n",
              "  });\n",
              "\n",
              "  // Wait for the user to pick the files.\n",
              "  const files = yield {\n",
              "    promise: Promise.race([pickedPromise, cancelPromise]),\n",
              "    response: {\n",
              "      action: 'starting',\n",
              "    }\n",
              "  };\n",
              "\n",
              "  cancel.remove();\n",
              "\n",
              "  // Disable the input element since further picks are not allowed.\n",
              "  inputElement.disabled = true;\n",
              "\n",
              "  if (!files) {\n",
              "    return {\n",
              "      response: {\n",
              "        action: 'complete',\n",
              "      }\n",
              "    };\n",
              "  }\n",
              "\n",
              "  for (const file of files) {\n",
              "    const li = document.createElement('li');\n",
              "    li.append(span(file.name, {fontWeight: 'bold'}));\n",
              "    li.append(span(\n",
              "        `(${file.type || 'n/a'}) - ${file.size} bytes, ` +\n",
              "        `last modified: ${\n",
              "            file.lastModifiedDate ? file.lastModifiedDate.toLocaleDateString() :\n",
              "                                    'n/a'} - `));\n",
              "    const percent = span('0% done');\n",
              "    li.appendChild(percent);\n",
              "\n",
              "    outputElement.appendChild(li);\n",
              "\n",
              "    const fileDataPromise = new Promise((resolve) => {\n",
              "      const reader = new FileReader();\n",
              "      reader.onload = (e) => {\n",
              "        resolve(e.target.result);\n",
              "      };\n",
              "      reader.readAsArrayBuffer(file);\n",
              "    });\n",
              "    // Wait for the data to be ready.\n",
              "    let fileData = yield {\n",
              "      promise: fileDataPromise,\n",
              "      response: {\n",
              "        action: 'continue',\n",
              "      }\n",
              "    };\n",
              "\n",
              "    // Use a chunked sending to avoid message size limits. See b/62115660.\n",
              "    let position = 0;\n",
              "    do {\n",
              "      const length = Math.min(fileData.byteLength - position, MAX_PAYLOAD_SIZE);\n",
              "      const chunk = new Uint8Array(fileData, position, length);\n",
              "      position += length;\n",
              "\n",
              "      const base64 = btoa(String.fromCharCode.apply(null, chunk));\n",
              "      yield {\n",
              "        response: {\n",
              "          action: 'append',\n",
              "          file: file.name,\n",
              "          data: base64,\n",
              "        },\n",
              "      };\n",
              "\n",
              "      let percentDone = fileData.byteLength === 0 ?\n",
              "          100 :\n",
              "          Math.round((position / fileData.byteLength) * 100);\n",
              "      percent.textContent = `${percentDone}% done`;\n",
              "\n",
              "    } while (position < fileData.byteLength);\n",
              "  }\n",
              "\n",
              "  // All done.\n",
              "  yield {\n",
              "    response: {\n",
              "      action: 'complete',\n",
              "    }\n",
              "  };\n",
              "}\n",
              "\n",
              "scope.google = scope.google || {};\n",
              "scope.google.colab = scope.google.colab || {};\n",
              "scope.google.colab._files = {\n",
              "  _uploadFiles,\n",
              "  _uploadFilesContinue,\n",
              "};\n",
              "})(self);\n",
              "</script> "
            ]
          },
          "metadata": {}
        },
        {
          "output_type": "stream",
          "name": "stdout",
          "text": [
            "Saving migrant_background_data_by_state_sorted.csv to migrant_background_data_by_state_sorted (1).csv\n"
          ]
        }
      ]
    },
    {
      "cell_type": "code",
      "source": [
        "import io\n",
        "migrant_background_data_complete = pd.read_csv(io.BytesIO(uploaded['migrant_background_data_by_state_sorted.csv']), encoding=\"windows_1258\")\n",
        "\n",
        "migrant_background_data_complete = migrant_background_data_complete.drop([0])\n",
        "\n",
        "migrant_background_data_complete = migrant_background_data_complete.rename(\n",
        "    columns={\n",
        "        \"Population with migrant background\": \"Population with migrant background.0\",\n",
        "        \"Country_Score\": \"Country_Score.0\",\n",
        "        \"Country\": \"Country.0\"\n",
        "        },\n",
        "    index={\n",
        "        1: \"Baden-Württemberg\",\n",
        "        2: \"Bavaria\",\n",
        "        3: \"Berlin\",\n",
        "        4: \"Brandenburg\",\n",
        "        5: \"Bremen\",\n",
        "        6: \"Hamburg\",\n",
        "        7: \"Hesse\",\n",
        "        8: \"Mecklenburg Western Pomerania\",\n",
        "        9: \"Lower Saxony\",\n",
        "        10: \"Northrhine-Westphalia\",\n",
        "        11: \"Rhineland Palatinate\",\n",
        "        12: \"Saarland\",\n",
        "        13: \"Sachsen\",\n",
        "        14: \"Sachsen-Anhalt\",\n",
        "        15: \"Schleswig-Holstein\",\n",
        "        16: \"Thuringia\"\n",
        "        }\n",
        "        )"
      ],
      "metadata": {
        "id": "j26dAY__MYWP"
      },
      "execution_count": 11,
      "outputs": []
    },
    {
      "cell_type": "code",
      "source": [
        "# import file \"geographical_data_by_state_sorted\"\n",
        "from google.colab import files\n",
        "uploaded = files.upload()"
      ],
      "metadata": {
        "colab": {
          "base_uri": "https://localhost:8080/",
          "height": 74
        },
        "id": "j0I2Gp_GZ5Wp",
        "outputId": "a370ced9-df65-49bf-8049-98112ee36c49"
      },
      "execution_count": 12,
      "outputs": [
        {
          "output_type": "display_data",
          "data": {
            "text/plain": [
              "<IPython.core.display.HTML object>"
            ],
            "text/html": [
              "\n",
              "     <input type=\"file\" id=\"files-1d66bff2-1320-4e6f-a596-f6bc16d238a1\" name=\"files[]\" multiple disabled\n",
              "        style=\"border:none\" />\n",
              "     <output id=\"result-1d66bff2-1320-4e6f-a596-f6bc16d238a1\">\n",
              "      Upload widget is only available when the cell has been executed in the\n",
              "      current browser session. Please rerun this cell to enable.\n",
              "      </output>\n",
              "      <script>// Copyright 2017 Google LLC\n",
              "//\n",
              "// Licensed under the Apache License, Version 2.0 (the \"License\");\n",
              "// you may not use this file except in compliance with the License.\n",
              "// You may obtain a copy of the License at\n",
              "//\n",
              "//      http://www.apache.org/licenses/LICENSE-2.0\n",
              "//\n",
              "// Unless required by applicable law or agreed to in writing, software\n",
              "// distributed under the License is distributed on an \"AS IS\" BASIS,\n",
              "// WITHOUT WARRANTIES OR CONDITIONS OF ANY KIND, either express or implied.\n",
              "// See the License for the specific language governing permissions and\n",
              "// limitations under the License.\n",
              "\n",
              "/**\n",
              " * @fileoverview Helpers for google.colab Python module.\n",
              " */\n",
              "(function(scope) {\n",
              "function span(text, styleAttributes = {}) {\n",
              "  const element = document.createElement('span');\n",
              "  element.textContent = text;\n",
              "  for (const key of Object.keys(styleAttributes)) {\n",
              "    element.style[key] = styleAttributes[key];\n",
              "  }\n",
              "  return element;\n",
              "}\n",
              "\n",
              "// Max number of bytes which will be uploaded at a time.\n",
              "const MAX_PAYLOAD_SIZE = 100 * 1024;\n",
              "\n",
              "function _uploadFiles(inputId, outputId) {\n",
              "  const steps = uploadFilesStep(inputId, outputId);\n",
              "  const outputElement = document.getElementById(outputId);\n",
              "  // Cache steps on the outputElement to make it available for the next call\n",
              "  // to uploadFilesContinue from Python.\n",
              "  outputElement.steps = steps;\n",
              "\n",
              "  return _uploadFilesContinue(outputId);\n",
              "}\n",
              "\n",
              "// This is roughly an async generator (not supported in the browser yet),\n",
              "// where there are multiple asynchronous steps and the Python side is going\n",
              "// to poll for completion of each step.\n",
              "// This uses a Promise to block the python side on completion of each step,\n",
              "// then passes the result of the previous step as the input to the next step.\n",
              "function _uploadFilesContinue(outputId) {\n",
              "  const outputElement = document.getElementById(outputId);\n",
              "  const steps = outputElement.steps;\n",
              "\n",
              "  const next = steps.next(outputElement.lastPromiseValue);\n",
              "  return Promise.resolve(next.value.promise).then((value) => {\n",
              "    // Cache the last promise value to make it available to the next\n",
              "    // step of the generator.\n",
              "    outputElement.lastPromiseValue = value;\n",
              "    return next.value.response;\n",
              "  });\n",
              "}\n",
              "\n",
              "/**\n",
              " * Generator function which is called between each async step of the upload\n",
              " * process.\n",
              " * @param {string} inputId Element ID of the input file picker element.\n",
              " * @param {string} outputId Element ID of the output display.\n",
              " * @return {!Iterable<!Object>} Iterable of next steps.\n",
              " */\n",
              "function* uploadFilesStep(inputId, outputId) {\n",
              "  const inputElement = document.getElementById(inputId);\n",
              "  inputElement.disabled = false;\n",
              "\n",
              "  const outputElement = document.getElementById(outputId);\n",
              "  outputElement.innerHTML = '';\n",
              "\n",
              "  const pickedPromise = new Promise((resolve) => {\n",
              "    inputElement.addEventListener('change', (e) => {\n",
              "      resolve(e.target.files);\n",
              "    });\n",
              "  });\n",
              "\n",
              "  const cancel = document.createElement('button');\n",
              "  inputElement.parentElement.appendChild(cancel);\n",
              "  cancel.textContent = 'Cancel upload';\n",
              "  const cancelPromise = new Promise((resolve) => {\n",
              "    cancel.onclick = () => {\n",
              "      resolve(null);\n",
              "    };\n",
              "  });\n",
              "\n",
              "  // Wait for the user to pick the files.\n",
              "  const files = yield {\n",
              "    promise: Promise.race([pickedPromise, cancelPromise]),\n",
              "    response: {\n",
              "      action: 'starting',\n",
              "    }\n",
              "  };\n",
              "\n",
              "  cancel.remove();\n",
              "\n",
              "  // Disable the input element since further picks are not allowed.\n",
              "  inputElement.disabled = true;\n",
              "\n",
              "  if (!files) {\n",
              "    return {\n",
              "      response: {\n",
              "        action: 'complete',\n",
              "      }\n",
              "    };\n",
              "  }\n",
              "\n",
              "  for (const file of files) {\n",
              "    const li = document.createElement('li');\n",
              "    li.append(span(file.name, {fontWeight: 'bold'}));\n",
              "    li.append(span(\n",
              "        `(${file.type || 'n/a'}) - ${file.size} bytes, ` +\n",
              "        `last modified: ${\n",
              "            file.lastModifiedDate ? file.lastModifiedDate.toLocaleDateString() :\n",
              "                                    'n/a'} - `));\n",
              "    const percent = span('0% done');\n",
              "    li.appendChild(percent);\n",
              "\n",
              "    outputElement.appendChild(li);\n",
              "\n",
              "    const fileDataPromise = new Promise((resolve) => {\n",
              "      const reader = new FileReader();\n",
              "      reader.onload = (e) => {\n",
              "        resolve(e.target.result);\n",
              "      };\n",
              "      reader.readAsArrayBuffer(file);\n",
              "    });\n",
              "    // Wait for the data to be ready.\n",
              "    let fileData = yield {\n",
              "      promise: fileDataPromise,\n",
              "      response: {\n",
              "        action: 'continue',\n",
              "      }\n",
              "    };\n",
              "\n",
              "    // Use a chunked sending to avoid message size limits. See b/62115660.\n",
              "    let position = 0;\n",
              "    do {\n",
              "      const length = Math.min(fileData.byteLength - position, MAX_PAYLOAD_SIZE);\n",
              "      const chunk = new Uint8Array(fileData, position, length);\n",
              "      position += length;\n",
              "\n",
              "      const base64 = btoa(String.fromCharCode.apply(null, chunk));\n",
              "      yield {\n",
              "        response: {\n",
              "          action: 'append',\n",
              "          file: file.name,\n",
              "          data: base64,\n",
              "        },\n",
              "      };\n",
              "\n",
              "      let percentDone = fileData.byteLength === 0 ?\n",
              "          100 :\n",
              "          Math.round((position / fileData.byteLength) * 100);\n",
              "      percent.textContent = `${percentDone}% done`;\n",
              "\n",
              "    } while (position < fileData.byteLength);\n",
              "  }\n",
              "\n",
              "  // All done.\n",
              "  yield {\n",
              "    response: {\n",
              "      action: 'complete',\n",
              "    }\n",
              "  };\n",
              "}\n",
              "\n",
              "scope.google = scope.google || {};\n",
              "scope.google.colab = scope.google.colab || {};\n",
              "scope.google.colab._files = {\n",
              "  _uploadFiles,\n",
              "  _uploadFilesContinue,\n",
              "};\n",
              "})(self);\n",
              "</script> "
            ]
          },
          "metadata": {}
        },
        {
          "output_type": "stream",
          "name": "stdout",
          "text": [
            "Saving geographical_data_by_state_sorted.csv to geographical_data_by_state_sorted (1).csv\n"
          ]
        }
      ]
    },
    {
      "cell_type": "code",
      "source": [
        "import io\n",
        "geography_data_complete = pd.read_csv(io.BytesIO(uploaded['geographical_data_by_state_sorted.csv']), encoding=\"windows_1258\")\n",
        "geography_data_complete = geography_data_complete.drop([0])\n",
        "\n",
        "geography_data_complete = geography_data_complete.rename(\n",
        "    columns={\n",
        "        \"Distance\": \"Distance.0\",\n",
        "        \"Country_Score\": \"Country_Score.0\",\n",
        "        \"Country\": \"Country.0\"\n",
        "        },\n",
        "    index={\n",
        "        1: \"Baden-Württemberg\",\n",
        "        2: \"Bavaria\",\n",
        "        3: \"Berlin\",\n",
        "        4: \"Brandenburg\",\n",
        "        5: \"Bremen\",\n",
        "        6: \"Hamburg\",\n",
        "        7: \"Hesse\",\n",
        "        8: \"Mecklenburg Western Pomerania\",\n",
        "        9: \"Lower Saxony\",\n",
        "        10: \"Northrhine-Westphalia\",\n",
        "        11: \"Rhineland Palatinate\",\n",
        "        12: \"Saarland\",\n",
        "        13: \"Sachsen\",\n",
        "        14: \"Sachsen-Anhalt\",\n",
        "        15: \"Schleswig-Holstein\",\n",
        "        16: \"Thuringia\"\n",
        "        }\n",
        "        )"
      ],
      "metadata": {
        "id": "5qTxMnZnaFwn"
      },
      "execution_count": 13,
      "outputs": []
    },
    {
      "cell_type": "code",
      "source": [
        "blank_df = pd.DataFrame(\n",
        "    {\n",
        "    \"Baden-Württemberg\": [],\n",
        "    \"Bavaria\": [],\n",
        "    \"Berlin\": [],\n",
        "    \"Brandenburg\": [],\n",
        "    \"Bremen\": [],\n",
        "    \"Hamburg\": [],\n",
        "    \"Hesse\": [],\n",
        "    \"Mecklenburg Western Pomerania\": [],\n",
        "    \"Lower Saxony\": [],\n",
        "    \"Northrhine-Westphalia\": [],\n",
        "    \"Rhineland Palatinate\": [],\n",
        "    \"Saarland\": [],\n",
        "    \"Sachsen\": [],\n",
        "    \"Sachsen-Anhalt\": [],\n",
        "    \"Schleswig-Holstein\": [],\n",
        "    \"Thuringia\": []\n",
        "    }\n",
        ")\n",
        "\n",
        "blank_df = blank_df.T"
      ],
      "metadata": {
        "id": "pumdC0SV5Xti"
      },
      "execution_count": 14,
      "outputs": []
    },
    {
      "cell_type": "code",
      "execution_count": 16,
      "metadata": {
        "id": "U3u9ZjEc3Lg_"
      },
      "outputs": [],
      "source": [
        "central_table_renamed_filtered_1 = blank_df.join(migrant_background_data_complete, rsuffix='_migrant')\n",
        "central_table_renamed_filtered_1 = central_table_renamed_filtered_1.add_suffix('_migrant')\n",
        "\n",
        "central_table_renamed_filtered_2 = blank_df.join(foreign_data_complete, rsuffix='_foreign')\n",
        "central_table_renamed_filtered_2 = central_table_renamed_filtered_2.add_suffix('_foreign')\n",
        "\n",
        "central_table_renamed_filtered_3 = blank_df.join(geography_data_complete, rsuffix='_geography')\n",
        "central_table_renamed_filtered_3 = central_table_renamed_filtered_3.add_suffix('_geography')\n",
        "\n",
        "central_table_migrant_background_foreign = central_table_renamed_filtered_1.join(central_table_renamed_filtered_2)\n",
        "\n",
        "central_table_migrant_background_foreign_geography = central_table_migrant_background_foreign.join(central_table_renamed_filtered_3)"
      ]
    },
    {
      "cell_type": "code",
      "source": [
        "#Upload Data_Abortion_state.csv\n",
        "from google.colab import files\n",
        "uploaded = files.upload()"
      ],
      "metadata": {
        "colab": {
          "base_uri": "https://localhost:8080/",
          "height": 74
        },
        "id": "jLGErWOkcn_R",
        "outputId": "edd94a9e-b46f-4e52-9dc1-17f730eb7cfa"
      },
      "execution_count": 17,
      "outputs": [
        {
          "output_type": "display_data",
          "data": {
            "text/plain": [
              "<IPython.core.display.HTML object>"
            ],
            "text/html": [
              "\n",
              "     <input type=\"file\" id=\"files-9ad97baf-c64f-4e1e-8d48-3e7dee3d7c26\" name=\"files[]\" multiple disabled\n",
              "        style=\"border:none\" />\n",
              "     <output id=\"result-9ad97baf-c64f-4e1e-8d48-3e7dee3d7c26\">\n",
              "      Upload widget is only available when the cell has been executed in the\n",
              "      current browser session. Please rerun this cell to enable.\n",
              "      </output>\n",
              "      <script>// Copyright 2017 Google LLC\n",
              "//\n",
              "// Licensed under the Apache License, Version 2.0 (the \"License\");\n",
              "// you may not use this file except in compliance with the License.\n",
              "// You may obtain a copy of the License at\n",
              "//\n",
              "//      http://www.apache.org/licenses/LICENSE-2.0\n",
              "//\n",
              "// Unless required by applicable law or agreed to in writing, software\n",
              "// distributed under the License is distributed on an \"AS IS\" BASIS,\n",
              "// WITHOUT WARRANTIES OR CONDITIONS OF ANY KIND, either express or implied.\n",
              "// See the License for the specific language governing permissions and\n",
              "// limitations under the License.\n",
              "\n",
              "/**\n",
              " * @fileoverview Helpers for google.colab Python module.\n",
              " */\n",
              "(function(scope) {\n",
              "function span(text, styleAttributes = {}) {\n",
              "  const element = document.createElement('span');\n",
              "  element.textContent = text;\n",
              "  for (const key of Object.keys(styleAttributes)) {\n",
              "    element.style[key] = styleAttributes[key];\n",
              "  }\n",
              "  return element;\n",
              "}\n",
              "\n",
              "// Max number of bytes which will be uploaded at a time.\n",
              "const MAX_PAYLOAD_SIZE = 100 * 1024;\n",
              "\n",
              "function _uploadFiles(inputId, outputId) {\n",
              "  const steps = uploadFilesStep(inputId, outputId);\n",
              "  const outputElement = document.getElementById(outputId);\n",
              "  // Cache steps on the outputElement to make it available for the next call\n",
              "  // to uploadFilesContinue from Python.\n",
              "  outputElement.steps = steps;\n",
              "\n",
              "  return _uploadFilesContinue(outputId);\n",
              "}\n",
              "\n",
              "// This is roughly an async generator (not supported in the browser yet),\n",
              "// where there are multiple asynchronous steps and the Python side is going\n",
              "// to poll for completion of each step.\n",
              "// This uses a Promise to block the python side on completion of each step,\n",
              "// then passes the result of the previous step as the input to the next step.\n",
              "function _uploadFilesContinue(outputId) {\n",
              "  const outputElement = document.getElementById(outputId);\n",
              "  const steps = outputElement.steps;\n",
              "\n",
              "  const next = steps.next(outputElement.lastPromiseValue);\n",
              "  return Promise.resolve(next.value.promise).then((value) => {\n",
              "    // Cache the last promise value to make it available to the next\n",
              "    // step of the generator.\n",
              "    outputElement.lastPromiseValue = value;\n",
              "    return next.value.response;\n",
              "  });\n",
              "}\n",
              "\n",
              "/**\n",
              " * Generator function which is called between each async step of the upload\n",
              " * process.\n",
              " * @param {string} inputId Element ID of the input file picker element.\n",
              " * @param {string} outputId Element ID of the output display.\n",
              " * @return {!Iterable<!Object>} Iterable of next steps.\n",
              " */\n",
              "function* uploadFilesStep(inputId, outputId) {\n",
              "  const inputElement = document.getElementById(inputId);\n",
              "  inputElement.disabled = false;\n",
              "\n",
              "  const outputElement = document.getElementById(outputId);\n",
              "  outputElement.innerHTML = '';\n",
              "\n",
              "  const pickedPromise = new Promise((resolve) => {\n",
              "    inputElement.addEventListener('change', (e) => {\n",
              "      resolve(e.target.files);\n",
              "    });\n",
              "  });\n",
              "\n",
              "  const cancel = document.createElement('button');\n",
              "  inputElement.parentElement.appendChild(cancel);\n",
              "  cancel.textContent = 'Cancel upload';\n",
              "  const cancelPromise = new Promise((resolve) => {\n",
              "    cancel.onclick = () => {\n",
              "      resolve(null);\n",
              "    };\n",
              "  });\n",
              "\n",
              "  // Wait for the user to pick the files.\n",
              "  const files = yield {\n",
              "    promise: Promise.race([pickedPromise, cancelPromise]),\n",
              "    response: {\n",
              "      action: 'starting',\n",
              "    }\n",
              "  };\n",
              "\n",
              "  cancel.remove();\n",
              "\n",
              "  // Disable the input element since further picks are not allowed.\n",
              "  inputElement.disabled = true;\n",
              "\n",
              "  if (!files) {\n",
              "    return {\n",
              "      response: {\n",
              "        action: 'complete',\n",
              "      }\n",
              "    };\n",
              "  }\n",
              "\n",
              "  for (const file of files) {\n",
              "    const li = document.createElement('li');\n",
              "    li.append(span(file.name, {fontWeight: 'bold'}));\n",
              "    li.append(span(\n",
              "        `(${file.type || 'n/a'}) - ${file.size} bytes, ` +\n",
              "        `last modified: ${\n",
              "            file.lastModifiedDate ? file.lastModifiedDate.toLocaleDateString() :\n",
              "                                    'n/a'} - `));\n",
              "    const percent = span('0% done');\n",
              "    li.appendChild(percent);\n",
              "\n",
              "    outputElement.appendChild(li);\n",
              "\n",
              "    const fileDataPromise = new Promise((resolve) => {\n",
              "      const reader = new FileReader();\n",
              "      reader.onload = (e) => {\n",
              "        resolve(e.target.result);\n",
              "      };\n",
              "      reader.readAsArrayBuffer(file);\n",
              "    });\n",
              "    // Wait for the data to be ready.\n",
              "    let fileData = yield {\n",
              "      promise: fileDataPromise,\n",
              "      response: {\n",
              "        action: 'continue',\n",
              "      }\n",
              "    };\n",
              "\n",
              "    // Use a chunked sending to avoid message size limits. See b/62115660.\n",
              "    let position = 0;\n",
              "    do {\n",
              "      const length = Math.min(fileData.byteLength - position, MAX_PAYLOAD_SIZE);\n",
              "      const chunk = new Uint8Array(fileData, position, length);\n",
              "      position += length;\n",
              "\n",
              "      const base64 = btoa(String.fromCharCode.apply(null, chunk));\n",
              "      yield {\n",
              "        response: {\n",
              "          action: 'append',\n",
              "          file: file.name,\n",
              "          data: base64,\n",
              "        },\n",
              "      };\n",
              "\n",
              "      let percentDone = fileData.byteLength === 0 ?\n",
              "          100 :\n",
              "          Math.round((position / fileData.byteLength) * 100);\n",
              "      percent.textContent = `${percentDone}% done`;\n",
              "\n",
              "    } while (position < fileData.byteLength);\n",
              "  }\n",
              "\n",
              "  // All done.\n",
              "  yield {\n",
              "    response: {\n",
              "      action: 'complete',\n",
              "    }\n",
              "  };\n",
              "}\n",
              "\n",
              "scope.google = scope.google || {};\n",
              "scope.google.colab = scope.google.colab || {};\n",
              "scope.google.colab._files = {\n",
              "  _uploadFiles,\n",
              "  _uploadFilesContinue,\n",
              "};\n",
              "})(self);\n",
              "</script> "
            ]
          },
          "metadata": {}
        },
        {
          "output_type": "stream",
          "name": "stdout",
          "text": [
            "Saving Data_Abortion_state.csv to Data_Abortion_state.csv\n"
          ]
        }
      ]
    },
    {
      "cell_type": "code",
      "source": [
        "import io\n",
        "df_abortion_state = pd.read_csv(io.BytesIO(uploaded['Data_Abortion_state.csv']) ,encoding=\"windows_1258\")\n",
        "df_abortion_state = df_abortion_state.rename(index = {\n",
        "    0: 'Baden-Württemberg',\n",
        "    1: 'Bavaria',\n",
        "    2: 'Berlin',\n",
        "    3: 'Brandenburg',\n",
        "    4: 'Bremen',\n",
        "    5: 'Hamburg',\n",
        "    6: 'Hesse',\n",
        "    7: 'Mecklenburg Western Pomerania',\n",
        "    8: 'Lower Saxony',\n",
        "    9: 'Northrhine-Westphalia',\n",
        "    10: 'Rhineland Palatinate',\n",
        "    11: 'Saarland',\n",
        "    12: 'Sachsen',\n",
        "    13: 'Sachsen-Anhalt',\n",
        "    14: 'Schleswig-Holstein',\n",
        "    15: 'Thuringia'},\n",
        "  columns = {\n",
        "       \"Ausland\" : \"Foreign\"\n",
        "       }\n",
        "    )"
      ],
      "metadata": {
        "id": "oziFkIvFcrUy"
      },
      "execution_count": 19,
      "outputs": []
    },
    {
      "cell_type": "code",
      "source": [
        "column_names = list(df_abortion_state.columns)\n",
        "df_abortion_total = df_abortion_state.convert_dtypes()\n",
        "df_abortion_total['Germans_total']= df_abortion_state[column_names[:-1]].sum(axis=1)\n",
        "df_abortion_total = df_abortion_total.rename(index={\n",
        "    0: 'Baden-Württemberg',\n",
        "    1: 'Bavaria',\n",
        "    2: 'Berlin',\n",
        "    3: 'Brandenburg',\n",
        "    4: 'Bremen',\n",
        "    5: 'Hamburg',\n",
        "    6: 'Hesse',\n",
        "    7: 'Mecklenburg Western Pomerania',\n",
        "    8: 'Lower Saxony',\n",
        "    9: 'Northrhine-Westphalia',\n",
        "    10: 'Rhineland Palatinate',\n",
        "    11: 'Saarland',\n",
        "    12: 'Sachsen',\n",
        "    13: 'Sachsen-Anhalt',\n",
        "    14: 'Schleswig-Holstein',\n",
        "    15: 'Thuringia'}\n",
        "    )\n",
        "df_abortion_total = df_abortion_total.filter(items = [\"Foreign\", \"Germans_total\"])\n",
        "df_abortion_total = df_abortion_total.fillna(0)"
      ],
      "metadata": {
        "id": "O8Zdf967cz3R"
      },
      "execution_count": 22,
      "outputs": []
    },
    {
      "cell_type": "code",
      "source": [
        "#Add the abortion information of each state into the dataframe\n",
        "central_table_migrant_background_foreign_geography[\"abortions_total\"] = df_abortion_total[\"Germans_total\"]\n",
        "central_table_migrant_background_foreign_geography[\"abortions_foreign\"] = df_abortion_total[\"Foreign\"]\n",
        "central_table_migrant_background_foreign_geography[\"abortions_local\"] = df_abortion_total[\"Germans_total\"] - df_abortion_total[\"Foreign\"]\n",
        "central_table_migrant_background_foreign_geography[\"abortions_type\"] = \"\"\n",
        "\n",
        "#Create DataFrame containing the rows for the foreign abortions in Germany\n",
        "central_table_migrant_background_foreign_geography_aforeign = central_table_migrant_background_foreign_geography.loc[central_table_migrant_background_foreign_geography.index.repeat(central_table_migrant_background_foreign_geography.abortions_foreign)]\n",
        "central_table_migrant_background_foreign_geography_aforeign.abortions_type = 1\n",
        "\n",
        "#Create DataFrame containing the rows for the foreign abortions in Germany\n",
        "central_table_migrant_background_foreign_geography_alocal = central_table_migrant_background_foreign_geography.loc[central_table_migrant_background_foreign_geography.index.repeat(central_table_migrant_background_foreign_geography.abortions_local)]\n",
        "central_table_migrant_background_foreign_geography_alocal.abortions_type = 0\n",
        "\n",
        "info = [central_table_migrant_background_foreign_geography_aforeign,central_table_migrant_background_foreign_geography_alocal]\n",
        "central_table_migrant_background_foreign_geography_repeated = pd.concat(info)"
      ],
      "metadata": {
        "id": "P4uN0pc3dYpi"
      },
      "execution_count": 28,
      "outputs": []
    },
    {
      "cell_type": "code",
      "source": [
        "# possibility to download the generated Data Frame\n",
        "central_table_migrant_background_foreign_geography_repeated.to_csv('central_table_migrant_background_foreign_geography_repeated.csv') \n",
        "from google.colab import files\n",
        "files.download(\"central_table_migrant_background_foreign_geography_repeated.csv\")"
      ],
      "metadata": {
        "colab": {
          "base_uri": "https://localhost:8080/",
          "height": 17
        },
        "id": "RSD7K_-xi7ns",
        "outputId": "93c7d33c-f00a-4d5c-a9c0-916897b28931"
      },
      "execution_count": 29,
      "outputs": [
        {
          "output_type": "display_data",
          "data": {
            "text/plain": [
              "<IPython.core.display.Javascript object>"
            ],
            "application/javascript": [
              "\n",
              "    async function download(id, filename, size) {\n",
              "      if (!google.colab.kernel.accessAllowed) {\n",
              "        return;\n",
              "      }\n",
              "      const div = document.createElement('div');\n",
              "      const label = document.createElement('label');\n",
              "      label.textContent = `Downloading \"${filename}\": `;\n",
              "      div.appendChild(label);\n",
              "      const progress = document.createElement('progress');\n",
              "      progress.max = size;\n",
              "      div.appendChild(progress);\n",
              "      document.body.appendChild(div);\n",
              "\n",
              "      const buffers = [];\n",
              "      let downloaded = 0;\n",
              "\n",
              "      const channel = await google.colab.kernel.comms.open(id);\n",
              "      // Send a message to notify the kernel that we're ready.\n",
              "      channel.send({})\n",
              "\n",
              "      for await (const message of channel.messages) {\n",
              "        // Send a message to notify the kernel that we're ready.\n",
              "        channel.send({})\n",
              "        if (message.buffers) {\n",
              "          for (const buffer of message.buffers) {\n",
              "            buffers.push(buffer);\n",
              "            downloaded += buffer.byteLength;\n",
              "            progress.value = downloaded;\n",
              "          }\n",
              "        }\n",
              "      }\n",
              "      const blob = new Blob(buffers, {type: 'application/binary'});\n",
              "      const a = document.createElement('a');\n",
              "      a.href = window.URL.createObjectURL(blob);\n",
              "      a.download = filename;\n",
              "      div.appendChild(a);\n",
              "      a.click();\n",
              "      div.remove();\n",
              "    }\n",
              "  "
            ]
          },
          "metadata": {}
        },
        {
          "output_type": "display_data",
          "data": {
            "text/plain": [
              "<IPython.core.display.Javascript object>"
            ],
            "application/javascript": [
              "download(\"download_58523a1f-569a-4cf2-97f4-66c3f98bfd9d\", \"central_table_migrant_background_foreign_geography_repeated.csv\", 173398986)"
            ]
          },
          "metadata": {}
        }
      ]
    },
    {
      "cell_type": "markdown",
      "source": [
        "# Central Table with the NAs replaced by 0 since in our case NA means to small to measure (wihle other populations are represented by small single digit numbers)\n"
      ],
      "metadata": {
        "id": "ikqayOkdw9Mg"
      }
    },
    {
      "cell_type": "code",
      "source": [
        "No_NA_central_table = central_table_migrant_background_foreign_geography_repeated.fillna(0)"
      ],
      "metadata": {
        "id": "FD6RKBp4xBIv"
      },
      "execution_count": 30,
      "outputs": []
    },
    {
      "cell_type": "code",
      "source": [
        "# possibility to download the generated Data Frame without NAs\n",
        "No_NA_central_table.to_csv('No_NA_central_table.csv') \n",
        "from google.colab import files\n",
        "files.download(\"No_NA_central_table.csv\")"
      ],
      "metadata": {
        "id": "ksOTjJVl1pP4",
        "outputId": "de6002ec-eeb1-40b0-8541-ac8e8597719d",
        "colab": {
          "base_uri": "https://localhost:8080/",
          "height": 17
        }
      },
      "execution_count": null,
      "outputs": [
        {
          "output_type": "display_data",
          "data": {
            "text/plain": [
              "<IPython.core.display.Javascript object>"
            ],
            "application/javascript": [
              "\n",
              "    async function download(id, filename, size) {\n",
              "      if (!google.colab.kernel.accessAllowed) {\n",
              "        return;\n",
              "      }\n",
              "      const div = document.createElement('div');\n",
              "      const label = document.createElement('label');\n",
              "      label.textContent = `Downloading \"${filename}\": `;\n",
              "      div.appendChild(label);\n",
              "      const progress = document.createElement('progress');\n",
              "      progress.max = size;\n",
              "      div.appendChild(progress);\n",
              "      document.body.appendChild(div);\n",
              "\n",
              "      const buffers = [];\n",
              "      let downloaded = 0;\n",
              "\n",
              "      const channel = await google.colab.kernel.comms.open(id);\n",
              "      // Send a message to notify the kernel that we're ready.\n",
              "      channel.send({})\n",
              "\n",
              "      for await (const message of channel.messages) {\n",
              "        // Send a message to notify the kernel that we're ready.\n",
              "        channel.send({})\n",
              "        if (message.buffers) {\n",
              "          for (const buffer of message.buffers) {\n",
              "            buffers.push(buffer);\n",
              "            downloaded += buffer.byteLength;\n",
              "            progress.value = downloaded;\n",
              "          }\n",
              "        }\n",
              "      }\n",
              "      const blob = new Blob(buffers, {type: 'application/binary'});\n",
              "      const a = document.createElement('a');\n",
              "      a.href = window.URL.createObjectURL(blob);\n",
              "      a.download = filename;\n",
              "      div.appendChild(a);\n",
              "      a.click();\n",
              "      div.remove();\n",
              "    }\n",
              "  "
            ]
          },
          "metadata": {}
        },
        {
          "output_type": "display_data",
          "data": {
            "text/plain": [
              "<IPython.core.display.Javascript object>"
            ],
            "application/javascript": [
              "download(\"download_d02a0bf6-589a-4a2e-be20-4a1c50b8b884\", \"No_NA_central_table.csv\", 174635051)"
            ]
          },
          "metadata": {}
        }
      ]
    },
    {
      "cell_type": "markdown",
      "source": [
        "# Basic Model Creation"
      ],
      "metadata": {
        "id": "1k_qII6yLKjz"
      }
    },
    {
      "cell_type": "code",
      "source": [
        "# Delete string variable country code\n",
        "No_NA_central_table_no_ISO3 = No_NA_central_table[No_NA_central_table.columns.drop(list(No_NA_central_table.filter(regex = \"Country.\")))]\n",
        "\n",
        "# Set X and y values with our own data\n",
        "X = No_NA_central_table_no_ISO3.drop([\"abortions_foreign\",\t\"abortions_local\",\t\"abortions_type\"], axis=1)\n",
        "y = No_NA_central_table_no_ISO3[\"abortions_type\"]"
      ],
      "metadata": {
        "id": "2oq41wLZLjX3"
      },
      "execution_count": 32,
      "outputs": []
    },
    {
      "cell_type": "code",
      "source": [
        "# Plot distribution of y\n",
        "# y is etremely uneven distributed\n",
        "import matplotlib.pyplot as plt\n",
        "\n",
        "y.value_counts().plot.barh()\n",
        "plt.xlabel(\"Number of samples\")\n",
        "_ = plt.title(\"Number of samples per class in target\")"
      ],
      "metadata": {
        "id": "5Oa4IIsILmMg",
        "outputId": "22199c56-87a3-4507-9872-500ca1616b8e",
        "colab": {
          "base_uri": "https://localhost:8080/",
          "height": 295
        }
      },
      "execution_count": 35,
      "outputs": [
        {
          "output_type": "display_data",
          "data": {
            "text/plain": [
              "<Figure size 432x288 with 1 Axes>"
            ],
            "image/png": "[encoded data removed]"
          },
          "metadata": {
            "needs_background": "light"
          }
        }
      ]
    },
    {
      "cell_type": "code",
      "source": [
        "# Set up training and testing data\n",
        "from sklearn.model_selection import train_test_split\n",
        "# TBA: set sub parameters (testsize etc.)\n",
        "X_train, X_test, y_train, y_test = train_test_split(\n",
        "    X, y, shuffle=True, random_state=123, test_size=0.5)"
      ],
      "metadata": {
        "id": "9UBZS7FELofF"
      },
      "execution_count": 36,
      "outputs": []
    },
    {
      "cell_type": "markdown",
      "source": [
        "## Dummy Model"
      ],
      "metadata": {
        "id": "h4sXcN-EjPx-"
      }
    },
    {
      "cell_type": "code",
      "source": [
        "from sklearn.dummy import DummyClassifier\n",
        "\n",
        "dummy_classifier = DummyClassifier(strategy=\"most_frequent\")\n",
        "dummy_classifier.fit(X_train, y_train)\n",
        "print(f\"Accuracy Dummy Classifier: \"\n",
        "      f\"{dummy_classifier.score(X_test, y_test):.3f}\")"
      ],
      "metadata": {
        "colab": {
          "base_uri": "https://localhost:8080/"
        },
        "id": "djbTbUI-jZOL",
        "outputId": "378c06a0-c142-42fc-e4bd-59c86b798568"
      },
      "execution_count": 38,
      "outputs": [
        {
          "output_type": "stream",
          "name": "stdout",
          "text": [
            "Accuracy Dummy Classifier: 0.994\n"
          ]
        }
      ]
    },
    {
      "cell_type": "markdown",
      "source": [
        "## Logistic Regression"
      ],
      "metadata": {
        "id": "uiP6IRUL1Dy9"
      }
    },
    {
      "cell_type": "code",
      "source": [
        "# Create Logistic Regression Model\n",
        "from sklearn.linear_model import LogisticRegression\n",
        "\n",
        "classifier_no_weights = LogisticRegression(max_iter= 1000)\n",
        "classifier_no_weights.fit(X_train, y_train)"
      ],
      "metadata": {
        "id": "keVroQK4LqUs",
        "outputId": "09427c78-81ff-47cb-8fd5-fd9f7b4d2ddd",
        "colab": {
          "base_uri": "https://localhost:8080/"
        }
      },
      "execution_count": 39,
      "outputs": [
        {
          "output_type": "execute_result",
          "data": {
            "text/plain": [
              "LogisticRegression(max_iter=1000)"
            ]
          },
          "metadata": {},
          "execution_count": 39
        }
      ]
    },
    {
      "cell_type": "code",
      "source": [
        "# LogisticRegression .score for the unweighted model for accuracy metrics\n",
        "# Accuracy score is extremely high (which is a suspicious) \n",
        "classifier_no_weights.score(X_test, y_test)"
      ],
      "metadata": {
        "colab": {
          "base_uri": "https://localhost:8080/"
        },
        "id": "q-A5p3trmWiy",
        "outputId": "626ece8c-383f-4ae9-b2b8-190dd844b5bb"
      },
      "execution_count": 43,
      "outputs": [
        {
          "output_type": "execute_result",
          "data": {
            "text/plain": [
              "0.9937889519920022"
            ]
          },
          "metadata": {},
          "execution_count": 43
        }
      ]
    },
    {
      "cell_type": "code",
      "source": [
        "# Using 'balanced accuracy' metric (for binary and multiclass classification problems with imbalanced datasets)\n",
        "# Definition: Average of recall obtained on each class\n",
        "# Unweighted balanced accuracy is 50/50 (which is a poor score) \n",
        " \n",
        "from sklearn.metrics import balanced_accuracy_score\n",
        "\n",
        "target_predicted = classifier_no_weights.predict(X_test)\n",
        "\n",
        "balanced_accuracy = balanced_accuracy_score(y_test, target_predicted)\n",
        "print(f\"Balanced accuracy: {balanced_accuracy:.2f}\")"
      ],
      "metadata": {
        "colab": {
          "base_uri": "https://localhost:8080/"
        },
        "id": "IhSTQDcwn4q9",
        "outputId": "38d973f4-b3d7-4623-f724-46a6e6c20d44"
      },
      "execution_count": 44,
      "outputs": [
        {
          "output_type": "stream",
          "name": "stdout",
          "text": [
            "Balanced accuracy: 0.50\n"
          ]
        }
      ]
    },
    {
      "cell_type": "code",
      "source": [
        "# Confusion Matrix\n",
        "# Due to the extreme inbalance, an unweighted model predicts 0 foreign pregnancies\n",
        "# An unweighted model therefore scores extremely high on unbalanced accuracy and extremely poor on balanced accuracy\n",
        "from sklearn.metrics import ConfusionMatrixDisplay\n",
        "\n",
        "_ = ConfusionMatrixDisplay.from_estimator(classifier_no_weights, X_test, y_test)"
      ],
      "metadata": {
        "id": "1vU3P6uVXms-",
        "outputId": "b1e17df3-6d9e-4c7a-e69b-b2447296fd41",
        "colab": {
          "base_uri": "https://localhost:8080/",
          "height": 279
        }
      },
      "execution_count": 46,
      "outputs": [
        {
          "output_type": "display_data",
          "data": {
            "text/plain": [
              "<Figure size 432x288 with 2 Axes>"
            ],
            "image/png": "[encoded data removed]"
          },
          "metadata": {
            "needs_background": "light"
          }
        }
      ]
    },
    {
      "cell_type": "markdown",
      "source": [
        "## *class_weights using the distribution of the y variables*"
      ],
      "metadata": {
        "id": "3gf6Roiz3yp5"
      }
    },
    {
      "cell_type": "code",
      "source": [
        "# Optimized class weights based on the distribution of the y variables\n",
        "from sklearn.utils.class_weight import compute_class_weight\n",
        "classes = np.unique(y)\n",
        "class_weights = compute_class_weight(class_weight = \"balanced\", classes= np.unique(y_train), y= y_train)\n",
        "class_weights"
      ],
      "metadata": {
        "colab": {
          "base_uri": "https://localhost:8080/"
        },
        "id": "Li9-V6KbqdMD",
        "outputId": "5cd978a1-5edc-4c26-871d-ded271ae4298"
      },
      "execution_count": 54,
      "outputs": [
        {
          "output_type": "execute_result",
          "data": {
            "text/plain": [
              "array([ 0.50297422, 84.5557554 ])"
            ]
          },
          "metadata": {},
          "execution_count": 54
        }
      ]
    },
    {
      "cell_type": "code",
      "source": [
        "# Implement provided ideal weights into Logistic Regression Model\n",
        "classifier_class_weights = LogisticRegression(max_iter= 1500, class_weight={0:class_weights[0],1:class_weights[1]})\n",
        "classifier_class_weights.fit(X_train, y_train)"
      ],
      "metadata": {
        "colab": {
          "base_uri": "https://localhost:8080/"
        },
        "id": "S0KEYcbyu_Tg",
        "outputId": "a63061b0-8161-4d4a-d967-bed03f5ba545"
      },
      "execution_count": 55,
      "outputs": [
        {
          "output_type": "execute_result",
          "data": {
            "text/plain": [
              "LogisticRegression(class_weight={0: 0.502974216326094, 1: 84.55575539568345},\n",
              "                   max_iter=1500)"
            ]
          },
          "metadata": {},
          "execution_count": 55
        }
      ]
    },
    {
      "cell_type": "code",
      "source": [
        "# LogisticRegression .score for the unweighted model for accuracy metrics\n",
        "# score is still high but not necessarily problematic (lower than unweighted)\n",
        "classifier_class_weights.score(X_test, y_test)"
      ],
      "metadata": {
        "colab": {
          "base_uri": "https://localhost:8080/"
        },
        "id": "1zFkFtFxwqus",
        "outputId": "a6cafc9b-fa2f-4415-c9c9-ef84035b1e20"
      },
      "execution_count": 57,
      "outputs": [
        {
          "output_type": "execute_result",
          "data": {
            "text/plain": [
              "0.8606555633548167"
            ]
          },
          "metadata": {},
          "execution_count": 57
        }
      ]
    },
    {
      "cell_type": "code",
      "source": [
        "# Using 'balanced accuracy' metric (for binary and multiclass classification problems with imbalanced datasets)\n",
        "# Definition: Average of recall obtained on each class\n",
        "# Unweighted balanced accuracy is high and much better than the performance of the unweighted model \n",
        " \n",
        "from sklearn.metrics import balanced_accuracy_score\n",
        "\n",
        "target_predicted = classifier_class_weights.predict(X_test)\n",
        "\n",
        "balanced_accuracy = balanced_accuracy_score(y_test, target_predicted)\n",
        "print(f\"Balanced accuracy: {balanced_accuracy:.2f}\")"
      ],
      "metadata": {
        "colab": {
          "base_uri": "https://localhost:8080/"
        },
        "id": "vshSkwQHwt1q",
        "outputId": "57e0d59c-fc7e-45b0-9c94-29ff2a0dda9c"
      },
      "execution_count": 58,
      "outputs": [
        {
          "output_type": "stream",
          "name": "stdout",
          "text": [
            "Balanced accuracy: 0.84\n"
          ]
        }
      ]
    },
    {
      "cell_type": "code",
      "source": [
        "# Confusion Matrix shows much improved numbers\n",
        "from sklearn.metrics import ConfusionMatrixDisplay\n",
        "\n",
        "_ = ConfusionMatrixDisplay.from_estimator(classifier_class_weights, X_test, y_test)"
      ],
      "metadata": {
        "colab": {
          "base_uri": "https://localhost:8080/",
          "height": 282
        },
        "id": "CLFcZEOswxEf",
        "outputId": "d3268678-6d99-4b2f-9439-a53e9f4a86cf"
      },
      "execution_count": 60,
      "outputs": [
        {
          "output_type": "display_data",
          "data": {
            "text/plain": [
              "<Figure size 432x288 with 2 Axes>"
            ],
            "image/png": "[encoded data removed]"
          },
          "metadata": {
            "needs_background": "light"
          }
        }
      ]
    },
    {
      "cell_type": "markdown",
      "source": [
        "### Precision-Recall Curves\n",
        "\n"
      ],
      "metadata": {
        "id": "LgkAyjj5515f"
      }
    },
    {
      "cell_type": "code",
      "source": [
        "# Precision-Recall Curve\n",
        "# reflects the high basic score of the dummy model (due to very inbalanced classes), however our weighted model still performs better\n",
        "from sklearn.metrics import PrecisionRecallDisplay\n",
        "\n",
        "disp = PrecisionRecallDisplay.from_estimator(\n",
        "    classifier_class_weights, X_test, y_test, pos_label= 0,\n",
        "    marker=\"+\")\n",
        "disp = PrecisionRecallDisplay.from_estimator(\n",
        "    dummy_classifier, X_test, y_test, pos_label= 0,\n",
        "    color=\"tab:orange\", linestyle=\"--\", ax=disp.ax_)\n",
        "plt.xlabel(\"Recall (TPR or sensitivity)\")\n",
        "plt.ylabel(\"Precision (PPV)\")\n",
        "plt.xlim(0, 1)\n",
        "plt.ylim(0, 1)\n",
        "plt.legend(bbox_to_anchor=(1.05, 0.8), loc=\"upper left\")\n",
        "_ = disp.ax_.set_title(\"Precision-recall curve\")"
      ],
      "metadata": {
        "id": "30xRc7e456hg",
        "outputId": "b85a9b58-cf80-4641-c5ec-2939f84c4a67",
        "colab": {
          "base_uri": "https://localhost:8080/",
          "height": 295
        }
      },
      "execution_count": 61,
      "outputs": [
        {
          "output_type": "display_data",
          "data": {
            "text/plain": [
              "<Figure size 432x288 with 1 Axes>"
            ],
            "image/png": "[encoded data removed]"
          },
          "metadata": {
            "needs_background": "light"
          }
        }
      ]
    },
    {
      "cell_type": "markdown",
      "source": [
        "###Receiver Operating Characteristic (ROC) Curve"
      ],
      "metadata": {
        "id": "TALubLsS6ixw"
      }
    },
    {
      "cell_type": "code",
      "source": [
        "# Receiver Operating Characteristic (ROC) Curve\n",
        "# probability threshold varies for determining prediction and compute the metrics\n",
        "# Area under the ROC (ROC-AUC) to characterize the generalization performance of our classifier (similar to precision-recall curve above)\n",
        "# lower bound of the ROC-AUC is 0.5 (generalization performance of dummy classifier)\n",
        "from sklearn.metrics import RocCurveDisplay\n",
        "\n",
        "disp = RocCurveDisplay.from_estimator(\n",
        "    classifier_class_weights, X_test, y_test, pos_label= 0,\n",
        "    marker=\"+\")\n",
        "disp = RocCurveDisplay.from_estimator(\n",
        "    dummy_classifier, X_test, y_test, pos_label= 0,\n",
        "    color=\"tab:orange\", ax=disp.ax_)\n",
        "plt.xlabel(\"False positive rate\")\n",
        "plt.ylabel(\"True positive rate\\n(sensitivity or recall)\")\n",
        "plt.xlim(0, 1)\n",
        "plt.ylim(0, 1)\n",
        "plt.legend(bbox_to_anchor=(1.05, 0.8), loc=\"upper left\")\n",
        "_ = disp.ax_.set_title(\"Receiver Operating Characteristic curve\")\n",
        "\n"
      ],
      "metadata": {
        "id": "WgblL7SL6lXU",
        "outputId": "f31fd801-5e5a-4882-a951-550f0ddcff5c",
        "colab": {
          "base_uri": "https://localhost:8080/",
          "height": 295
        }
      },
      "execution_count": 63,
      "outputs": [
        {
          "output_type": "display_data",
          "data": {
            "text/plain": [
              "<Figure size 432x288 with 1 Axes>"
            ],
            "image/png": "[encoded data removed]"
          },
          "metadata": {
            "needs_background": "light"
          }
        }
      ]
    },
    {
      "cell_type": "markdown",
      "source": [
        "## Undersampling and Oversampling "
      ],
      "metadata": {
        "id": "SXd8-q79jtaX"
      }
    },
    {
      "cell_type": "code",
      "source": [
        "# Implementation of Roughly Balanced Bagging for binary problem.\n",
        "\n",
        "# using a RandomUnderSampler or RandomOverSampler will create exactly the desired number of samples\n",
        "# However, it does not follow the statistical spirit wanted in the bagging framework.\n",
        "\n",
        "# not working in the moment\n",
        "\n",
        "from collections import Counter\n",
        "from imblearn import FunctionSampler\n",
        "from imblearn.ensemble import BalancedBaggingClassifier\n",
        "from sklearn.model_selection import cross_validate\n",
        "\n",
        "def roughly_balanced_bagging(X, y, replace=False):\n",
        "    \n",
        "    # find the minority and majority classes\n",
        "    class_counts = Counter(y)\n",
        "    majority_class = max(class_counts, key=class_counts.get)\n",
        "    minority_class = min(class_counts, key=class_counts.get)\n",
        "\n",
        "    # compute the number of sample to draw from the majority class using\n",
        "    # a negative binomial distribution\n",
        "    n_minority_class = class_counts[minority_class]\n",
        "    n_majority_resampled = np.random.negative_binomial(n=n_minority_class, p=0.5)\n",
        "\n",
        "    # draw randomly with or without replacement\n",
        "    majority_indices = np.random.choice(\n",
        "        np.flatnonzero(y == majority_class),\n",
        "        size=n_majority_resampled,\n",
        "        replace=replace,\n",
        "    )\n",
        "    minority_indices = np.random.choice(\n",
        "        np.flatnonzero(y == minority_class),\n",
        "        size=n_minority_class,\n",
        "        replace=replace,\n",
        "    )\n",
        "    indices = np.hstack([majority_indices, minority_indices])\n",
        "\n",
        "    return X[indices], y[indices]\n",
        "\n",
        "\n",
        "# Roughly Balanced Bagging\n",
        "rbb = BalancedBaggingClassifier(\n",
        "    sampler=FunctionSampler(func=roughly_balanced_bagging, kw_args={\"replace\": True})\n",
        ")\n",
        "cv_results = cross_validate(rbb, X, y, scoring=\"balanced_accuracy\")\n",
        "\n",
        "print(f\"{cv_results['test_score'].mean():.3f} +/- {cv_results['test_score'].std():.3f}\")"
      ],
      "metadata": {
        "colab": {
          "base_uri": "https://localhost:8080/"
        },
        "id": "H843IQJK5R5K",
        "outputId": "3815d595-1c3c-494a-e46c-74d2e3db04a3"
      },
      "execution_count": null,
      "outputs": [
        {
          "output_type": "stream",
          "name": "stdout",
          "text": [
            "nan +/- nan\n"
          ]
        },
        {
          "output_type": "stream",
          "name": "stderr",
          "text": [
            "/usr/local/lib/python3.7/dist-packages/sklearn/model_selection/_validation.py:372: FitFailedWarning: \n",
            "5 fits failed out of a total of 5.\n",
            "The score on these train-test partitions for these parameters will be set to nan.\n",
            "If these failures are not expected, you can try to debug them by setting error_score='raise'.\n",
            "\n",
            "Below are more details about the failures:\n",
            "--------------------------------------------------------------------------------\n",
            "5 fits failed with the following error:\n",
            "Traceback (most recent call last):\n",
            "  File \"/usr/local/lib/python3.7/dist-packages/sklearn/model_selection/_validation.py\", line 680, in _fit_and_score\n",
            "    estimator.fit(X_train, y_train, **fit_params)\n",
            "  File \"/usr/local/lib/python3.7/dist-packages/imblearn/ensemble/_bagging.py\", line 321, in fit\n",
            "    return self._fit(X, y, self.max_samples, sample_weight=None)\n",
            "  File \"/usr/local/lib/python3.7/dist-packages/sklearn/ensemble/_bagging.py\", line 337, in _fit\n",
            "    max_features = self.max_features * self.n_features_in_\n",
            "AttributeError: 'BalancedBaggingClassifier' object has no attribute 'n_features_in_'\n",
            "\n",
            "  warnings.warn(some_fits_failed_message, FitFailedWarning)\n"
          ]
        }
      ]
    },
    {
      "cell_type": "markdown",
      "source": [
        "## Best Threshold Evaluation Metric"
      ],
      "metadata": {
        "id": "Bl753W_N7nUO"
      }
    },
    {
      "cell_type": "code",
      "source": [
        "# This is only an example by now\n",
        "## Another option would be to change our Evaluation Metric in accordance to the imbalance\n",
        "# function to get the best threshold for maximizing F1 score for binary predictions\n",
        "\n",
        "def bestThresshold(y_true,y_pred):\n",
        "    best_thresh = None\n",
        "    best_score = 0\n",
        "    for thresh in np.arange(0.1, 0.501, 0.01):\n",
        "        score = f1_score(y_true, np.array(y_pred)>thresh)\n",
        "        if score > best_score:\n",
        "            best_thresh = thresh\n",
        "            best_score = score\n",
        "    return best_score , best_thresh"
      ],
      "metadata": {
        "id": "Zzf-ictC7zFz"
      },
      "execution_count": null,
      "outputs": []
    },
    {
      "cell_type": "markdown",
      "source": [
        "## Random Forest Classifier"
      ],
      "metadata": {
        "id": "jDdVCPcLfHLz"
      }
    },
    {
      "cell_type": "code",
      "source": [
        "from sklearn.ensemble import RandomForestClassifier\n",
        "from sklearn.metrics import accuracy_score\n",
        "from sklearn.metrics import roc_auc_score\n",
        " \n",
        "# Train model\n",
        "classifier_forest = RandomForestClassifier(random_state=123)\n",
        "classifier_forest.fit(X, y)\n",
        " \n",
        "# Predict on training set\n",
        "pred_y_forest = classifier_forest.predict(X)\n",
        " \n",
        "# Is our model still predicting just one class?\n",
        "print(np.unique(pred_y_forest))\n",
        "# this model is only predicting 0, which means it’s completely ignoring the minority class in favor of the majority class\n",
        " \n",
        "# How's our accuracy?\n",
        "print(accuracy_score(y, pred_y_forest))\n",
        " \n",
        "# What about AUROC?\n",
        "# Area Under ROC Curve (AUROC) represents the likelihood of your model distinguishing observations from two classes\n",
        "prob_y_forest = classifier_forest.predict_proba(X)\n",
        "prob_y_forest = [p[1] for p in prob_y_forest]\n",
        "print(roc_auc_score(y, prob_y_forest))"
      ],
      "metadata": {
        "colab": {
          "base_uri": "https://localhost:8080/"
        },
        "id": "xC844-lmfJ1D",
        "outputId": "6a1d83ca-fa9b-4731-b8c0-467628733bce"
      },
      "execution_count": null,
      "outputs": [
        {
          "output_type": "stream",
          "name": "stdout",
          "text": [
            "[0]\n",
            "0.9939378469784953\n",
            "0.9101279014498238\n"
          ]
        }
      ]
    }
  ]
}